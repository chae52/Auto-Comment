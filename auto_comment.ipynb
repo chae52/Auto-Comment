{
 "cells": [
  {
   "cell_type": "code",
   "execution_count": 1,
   "metadata": {
    "collapsed": true
   },
   "outputs": [],
   "source": [
    "from selenium import webdriver\n",
    "from selenium.webdriver.common.keys import Keys\n",
    "import time\n",
    "from selenium.webdriver.common.by import By\n",
    "from selenium.webdriver.common.action_chains import ActionChains\n",
    "import pyperclip"
   ]
  },
  {
   "cell_type": "code",
   "execution_count": 6,
   "outputs": [],
   "source": [
    "# Insert custom information\n",
    "\n",
    "# ********** ID & PW\n",
    "id=[['id','pw'],\n",
    "    ['id','pw'],]\n",
    "\n",
    "# ********** Comments\n",
    "message=[['','',''], # for id[0]\n",
    "         ['','','']] # for id[1]\n",
    "\n",
    "# ********* URL\n",
    "url='''\n",
    "https://www.google.com/\n",
    "https://www.google.com/\n",
    "'''\n",
    "urls=list(url.strip().split('\\n')) # == ['https://www.google.com/','https://www.google.com/']\n",
    "\n",
    "# ********* Key Word\n",
    "keywords='''\n",
    "key word 1\n",
    "key word 2\n",
    "'''\n",
    "key_word=list(keywords.strip().split('\\n')) # == ['key word 1', 'key word 2']\n",
    "\n",
    "print(url)\n",
    "print(key_word)"
   ],
   "metadata": {
    "collapsed": false
   }
  },
  {
   "cell_type": "code",
   "execution_count": null,
   "outputs": [],
   "source": [
    "def clipboard_input(user_xpath, user_input):\n",
    "    temp_user_input = pyperclip.paste()  # 사용자 클립보드를 따로 저장\n",
    "\n",
    "    pyperclip.copy(user_input)\n",
    "    driver.find_element(By.XPATH,user_xpath).click()\n",
    "    ActionChains(driver).key_down(Keys.CONTROL).send_keys('v').key_up(Keys.CONTROL).perform()\n",
    "\n",
    "    pyperclip.copy(temp_user_input)  # 사용자 클립보드에 저장 된 내용을 다시 가져 옴\n",
    "    time.sleep(1)\n",
    "\n",
    "for i in range(len(id)):\n",
    "    driver = webdriver.Chrome(\"./chromedriver\")\n",
    "\n",
    "    options=webdriver.ChromeOptions()\n",
    "    options.add_argument('Mozilla/5.0 (Windows NT 10.0; Win64; x64) AppleWebKit/537.36 (KHTML, like Gecko) Chrome/108.0.0.0 Safari/537.36')\n",
    "\n",
    "    driver.get(\"https://nid.naver.com/nidlogin.login?mode=form&url=https%3A%2F%2Fwww.naver.com\") # custom # login page\n",
    "    driver.implicitly_wait(1)\n",
    "\n",
    "    clipboard_input('//*[@id=\"id\"]', id[i][0])\n",
    "    clipboard_input('//*[@id=\"pw\"]', id[i][1])\n",
    "    driver.find_element(By.ID, \"log.login\").click()\n",
    "    time.sleep(1)\n",
    "\n",
    "    if driver.find_element(By.ID, \"switch_blind\").text=='on': # Off IP Protect\n",
    "        driver.find_element(By.CLASS_NAME, \"switch_btn\").click()\n",
    "        time.sleep(1)\n",
    "\n",
    "    for j in range(len(urls)):\n",
    "        driver.get(urls[j])\n",
    "        driver.switch_to.frame('cafe_main') # Specially for Naver Cafe servcie\n",
    "        time.sleep(3)\n",
    "\n",
    "        input = driver.find_element(By.CSS_SELECTOR, '#app > div > div > div.ArticleContentBox > div.article_container > div.CommentBox > div.CommentWriter > div.comment_inbox > textarea')\n",
    "        input.send_keys(message[i][j])\n",
    "        reg_button=driver.find_element(By.CLASS_NAME,'btn_register')\n",
    "        reg_button.click()\n",
    "    time.sleep(3) # Without waiting, the last comment may not be able to register\n",
    "    print(f'**** {i}th     ID {id[i][0]}     Finished ****')\n",
    "    driver.close()"
   ],
   "metadata": {
    "collapsed": false,
    "pycharm": {
     "is_executing": true
    }
   }
  },
  {
   "cell_type": "code",
   "execution_count": 11,
   "outputs": [],
   "source": [
    "# Write informations on memo\n",
    "\n",
    "file_location='C:/Users/ ... INSERT PATH'\n",
    "file=open(file_location+'cafe_info.txt','w', encoding='utf8')\n",
    "for i in range(len(urls)):\n",
    "    file.write('@'+key_word[i]+'@@'+urls[i]+'@@\\n')\n",
    "file.close()"
   ],
   "metadata": {
    "collapsed": false
   }
  }
 ],
 "metadata": {
  "kernelspec": {
   "display_name": "Python 3",
   "language": "python",
   "name": "python3"
  },
  "language_info": {
   "codemirror_mode": {
    "name": "ipython",
    "version": 2
   },
   "file_extension": ".py",
   "mimetype": "text/x-python",
   "name": "python",
   "nbconvert_exporter": "python",
   "pygments_lexer": "ipython2",
   "version": "2.7.6"
  }
 },
 "nbformat": 4,
 "nbformat_minor": 0
}
